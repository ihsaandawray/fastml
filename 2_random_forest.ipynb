{
 "cells": [
  {
   "cell_type": "code",
   "execution_count": 1,
   "id": "be9816c7-ed8e-438b-99a7-9b703966b23d",
   "metadata": {},
   "outputs": [],
   "source": [
    "import numpy as np\n",
    "from sklearn.datasets import load_iris\n",
    "from sklearn.metrics import accuracy_score\n",
    "from sklearn.model_selection import train_test_split"
   ]
  },
  {
   "cell_type": "code",
   "execution_count": 2,
   "id": "859831d1",
   "metadata": {},
   "outputs": [],
   "source": [
    "iris = load_iris()\n",
    "X_train, X_test, Y_train, Y_test = train_test_split(iris.data, iris.target, test_size=0.2, random_state=41)\n",
    "\n",
    "# iris.data, iris.target"
   ]
  },
  {
   "cell_type": "code",
   "execution_count": 3,
   "id": "245f4d5c-33be-4c7c-a693-648d66fd3203",
   "metadata": {},
   "outputs": [],
   "source": [
    "class Node():\n",
    "    def __init__(self, feature_index=None, threshold=None, left=None, right=None, info_gain=None, value=None):\n",
    "        self.feature_index = feature_index\n",
    "        self.threshold = threshold\n",
    "        self.left = left\n",
    "        self.right = right\n",
    "        self.info_gain = info_gain\n",
    "        self.value = value"
   ]
  },
  {
   "cell_type": "code",
   "execution_count": 4,
   "id": "8e38fc9a",
   "metadata": {},
   "outputs": [],
   "source": [
    "class DecisionTreeClassifier():\n",
    "    def __init__(self, min_samples_split=2, max_depth=2):\n",
    "        self.root = None\n",
    "        self.min_samples_split = min_samples_split\n",
    "        self.max_depth = max_depth\n",
    "        \n",
    "    def build_tree(self, dataset, curr_depth=0):       \n",
    "        X, Y = dataset[:,:-1], dataset[:,-1]\n",
    "        n_samples, n_features = np.shape(X)\n",
    "        \n",
    "        if n_samples >= self.min_samples_split and curr_depth<=self.max_depth:\n",
    "            best_split = self.get_best_split(dataset, n_samples, n_features)\n",
    "            if best_split[\"info_gain\"]>0:\n",
    "                left_subtree = self.build_tree(best_split[\"dataset_left\"], curr_depth+1)\n",
    "                right_subtree = self.build_tree(best_split[\"dataset_right\"], curr_depth+1)\n",
    "                return Node(best_split[\"feature_index\"], best_split[\"threshold\"], \n",
    "                            left_subtree, right_subtree, best_split[\"info_gain\"])\n",
    "        \n",
    "        leaf_value = self.calculate_leaf_value(Y)\n",
    "        return Node(value=leaf_value)\n",
    "    \n",
    "    def get_best_split(self, dataset, n_samples, n_features):\n",
    "        best_split = {\n",
    "        'info_gain': 0,  \n",
    "        'feature_index': None,\n",
    "        'threshold': None,\n",
    "        'dataset_left': None,\n",
    "        'dataset_right': None\n",
    "        }\n",
    "        max_info_gain = -float(\"inf\")\n",
    "        for feature_index in range(n_features):\n",
    "            feature_values = dataset[:, feature_index]\n",
    "            possible_thresholds = np.unique(feature_values)\n",
    "            for threshold in possible_thresholds:\n",
    "                dataset_left, dataset_right = self.split(dataset, feature_index, threshold)\n",
    "                if len(dataset_left) > 0 and len(dataset_right) > 0:\n",
    "                    y, left_y, right_y = dataset[:, -1], dataset_left[:, -1], dataset_right[:, -1]\n",
    "                    curr_info_gain = self.information_gain(y, left_y, right_y)\n",
    "                    if curr_info_gain>max_info_gain:\n",
    "                        best_split[\"feature_index\"] = feature_index\n",
    "                        best_split[\"threshold\"] = threshold\n",
    "                        best_split[\"dataset_left\"] = dataset_left\n",
    "                        best_split[\"dataset_right\"] = dataset_right\n",
    "                        best_split[\"info_gain\"] = curr_info_gain\n",
    "                        max_info_gain = curr_info_gain\n",
    "                        \n",
    "        return best_split\n",
    "    \n",
    "    def split(self, dataset, feature_index, threshold):\n",
    "        dataset_left = np.array([row for row in dataset if row[feature_index] <= threshold])\n",
    "        dataset_right = np.array([row for row in dataset if row[feature_index] > threshold])\n",
    "        return dataset_left, dataset_right\n",
    "    \n",
    "    def information_gain(self, parent, l_child, r_child):\n",
    "        weight_l = len(l_child) / len(parent)\n",
    "        weight_r = len(r_child) / len(parent)\n",
    "        gain = self.entropy(parent) - (weight_l*self.entropy(l_child) + weight_r*self.entropy(r_child))\n",
    "        return gain\n",
    "    \n",
    "    def entropy(self, y):\n",
    "        class_labels = np.unique(y)\n",
    "        entropy = 0\n",
    "        for cls in class_labels:\n",
    "            p_cls = len(y[y == cls]) / len(y)\n",
    "            entropy += - p_cls * np.log(p_cls)\n",
    "        return entropy\n",
    "        \n",
    "    def calculate_leaf_value(self, Y):\n",
    "        Y = list(Y)\n",
    "        return max(Y, key=Y.count)    \n",
    "    \n",
    "    def fit(self, X, Y):\n",
    "        Y = Y.reshape(-1, 1)\n",
    "        dataset = np.concatenate((X, Y), axis=1)\n",
    "        self.root = self.build_tree(dataset)\n",
    "    \n",
    "    def predict(self, X):\n",
    "        preditions = [self.make_prediction(x, self.root) for x in X]\n",
    "        return preditions\n",
    "    \n",
    "    def make_prediction(self, x, tree):\n",
    "        if tree.value!=None: return tree.value\n",
    "        feature_val = x[tree.feature_index]\n",
    "        if feature_val<=tree.threshold:\n",
    "            return self.make_prediction(x, tree.left)\n",
    "        else:\n",
    "            return self.make_prediction(x, tree.right)\n"
   ]
  },
  {
   "cell_type": "code",
   "execution_count": 21,
   "id": "e6faf21d",
   "metadata": {},
   "outputs": [
    {
     "name": "stdout",
     "output_type": "stream",
     "text": [
      "accuracy: 0.9333333333333333\n"
     ]
    }
   ],
   "source": [
    "tree = DecisionTreeClassifier(min_samples_split=3, max_depth=5)\n",
    "tree.fit(X_train, Y_train)\n",
    "\n",
    "Y_pred = tree.predict(X_test) \n",
    "print(\"accuracy:\", accuracy_score(Y_test, Y_pred))"
   ]
  },
  {
   "cell_type": "code",
   "execution_count": 18,
   "id": "20463456",
   "metadata": {},
   "outputs": [],
   "source": [
    "import numpy as np\n",
    "from scipy.stats import mode\n",
    "\n",
    "class RandomForestClassifier:\n",
    "    def __init__(self, n_trees=10, min_samples_split=3, max_depth=3, max_samples=None, max_features=None):\n",
    "        self.n_trees = n_trees\n",
    "        self.min_samples_split = min_samples_split\n",
    "        self.max_depth = max_depth\n",
    "        self.max_samples = max_samples if max_samples is not None else None\n",
    "        self.max_features = max_features if max_features is not None else None\n",
    "        self.trees = []\n",
    "        self.feature_indices = []\n",
    "\n",
    "    def fit(self, X, Y):\n",
    "        n_rows, n_cols = X.shape\n",
    "        n_samples = self.max_samples if self.max_samples is not None else n_rows\n",
    "        n_features = self.max_features if self.max_features is not None else n_cols\n",
    "\n",
    "        self.trees = []\n",
    "        self.feature_indices = []\n",
    "        for _ in range(self.n_trees):\n",
    "            tree = DecisionTreeClassifier(min_samples_split=self.min_samples_split, max_depth=self.max_depth)\n",
    "            indices = np.random.choice(n_rows, size=n_samples, replace=True)\n",
    "            features_indices = np.random.choice(n_cols, size=n_features, replace=False)\n",
    "            X_sample, Y_sample = X[indices][:, features_indices], Y[indices]\n",
    "            tree.fit(X_sample, Y_sample)\n",
    "            self.trees.append(tree)\n",
    "            self.feature_indices.append(features_indices)\n",
    "\n",
    "    def predict(self, X):\n",
    "        tree_preds = np.array([tree.predict(X[:, features]) for tree, features in zip(self.trees, self.feature_indices)])\n",
    "        tree_preds = np.swapaxes(tree_preds, 0, 1)  \n",
    "        majority_vote, _ = mode(tree_preds, axis=1)\n",
    "        return majority_vote.flatten()"
   ]
  },
  {
   "cell_type": "code",
   "execution_count": 25,
   "id": "17d6f2ae",
   "metadata": {},
   "outputs": [
    {
     "name": "stdout",
     "output_type": "stream",
     "text": [
      "accuracy: 0.8333333333333334\n"
     ]
    }
   ],
   "source": [
    "forest = RandomForestClassifier(n_trees=100, max_depth=3, max_samples=int(X_train.shape[0]/2), max_features=int(np.sqrt(X_train.shape[1])))\n",
    "forest.fit(X_train, Y_train)\n",
    "\n",
    "Y_pred = forest.predict(X_test)\n",
    "print(\"accuracy:\", accuracy_score(Y_test, Y_pred))"
   ]
  },
  {
   "cell_type": "code",
   "execution_count": null,
   "id": "f1d9cf78",
   "metadata": {},
   "outputs": [],
   "source": []
  },
  {
   "cell_type": "code",
   "execution_count": null,
   "id": "895a83cf",
   "metadata": {},
   "outputs": [],
   "source": []
  }
 ],
 "metadata": {
  "kernelspec": {
   "display_name": "Python 3 (ipykernel)",
   "language": "python",
   "name": "python3"
  },
  "language_info": {
   "codemirror_mode": {
    "name": "ipython",
    "version": 3
   },
   "file_extension": ".py",
   "mimetype": "text/x-python",
   "name": "python",
   "nbconvert_exporter": "python",
   "pygments_lexer": "ipython3",
   "version": "3.11.4"
  }
 },
 "nbformat": 4,
 "nbformat_minor": 5
}
