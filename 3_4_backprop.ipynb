{
  "cells": [
    {
      "cell_type": "code",
      "execution_count": 1,
      "metadata": {
        "id": "ChBbac4y8PPq"
      },
      "outputs": [
        {
          "name": "stderr",
          "output_type": "stream",
          "text": [
            "/home/ihsaan/.local/lib/python3.10/site-packages/matplotlib/projections/__init__.py:63: UserWarning: Unable to import Axes3D. This may be due to multiple versions of Matplotlib being installed (e.g. as a system package and as a pip package). As a result, the 3D projection is not available.\n",
            "  warnings.warn(\"Unable to import Axes3D. This may be due to multiple versions of \"\n"
          ]
        }
      ],
      "source": [
        "import torch\n",
        "import torch.nn.functional as F\n",
        "import matplotlib.pyplot as plt\n",
        "import random\n",
        "import requests\n",
        "\n",
        "%matplotlib inline"
      ]
    },
    {
      "cell_type": "code",
      "execution_count": 2,
      "metadata": {
        "id": "x6GhEWW18aCS"
      },
      "outputs": [
        {
          "data": {
            "text/plain": [
              "['wire',\n",
              " 'equal',\n",
              " 'vendor',\n",
              " 'rentals',\n",
              " 'techno',\n",
              " 'grad',\n",
              " 'pursue',\n",
              " 'gordon',\n",
              " 'carter',\n",
              " 'headed']"
            ]
          },
          "execution_count": 2,
          "metadata": {},
          "output_type": "execute_result"
        }
      ],
      "source": [
        "url =  \"https://www.mit.edu/~ecprice/wordlist.10000\"\n",
        "words = response = requests.get(url).text.splitlines()\n",
        "random.sample(words, 10)"
      ]
    },
    {
      "cell_type": "code",
      "execution_count": 3,
      "metadata": {
        "id": "BCQomLE_8PPs"
      },
      "outputs": [],
      "source": [
        "chars = sorted(list(set(''.join(words))))\n",
        "stoi = {s:i+1 for i,s in enumerate(chars)}\n",
        "stoi['.'] = 0\n",
        "itos = {i:s for s,i in stoi.items()}\n",
        "vocab_size = len(itos)"
      ]
    },
    {
      "cell_type": "code",
      "execution_count": 4,
      "metadata": {
        "id": "V_zt2QHr8PPs"
      },
      "outputs": [
        {
          "name": "stdout",
          "output_type": "stream",
          "text": [
            "torch.Size([60647, 3]) torch.Size([60647])\n",
            "torch.Size([7759, 3]) torch.Size([7759])\n",
            "torch.Size([7474, 3]) torch.Size([7474])\n"
          ]
        }
      ],
      "source": [
        "# build the dataset\n",
        "block_size = 3 # context length: how many characters do we take to predict the next one?\n",
        "\n",
        "def build_dataset(words):\n",
        "  X, Y = [], []\n",
        "\n",
        "  for w in words:\n",
        "    context = [0] * block_size\n",
        "    for ch in w + '.':\n",
        "      ix = stoi[ch]\n",
        "      X.append(context)\n",
        "      Y.append(ix)\n",
        "      context = context[1:] + [ix] # crop and append\n",
        "\n",
        "  X = torch.tensor(X)\n",
        "  Y = torch.tensor(Y)\n",
        "  print(X.shape, Y.shape)\n",
        "  return X, Y\n",
        "\n",
        "import random\n",
        "random.seed(42)\n",
        "random.shuffle(words)\n",
        "n1 = int(0.8*len(words))\n",
        "n2 = int(0.9*len(words))\n",
        "\n",
        "Xtr,  Ytr  = build_dataset(words[:n1])     # 80%\n",
        "Xdev, Ydev = build_dataset(words[n1:n2])   # 10%\n",
        "Xte,  Yte  = build_dataset(words[n2:])     # 10%"
      ]
    },
    {
      "cell_type": "code",
      "execution_count": 5,
      "metadata": {
        "id": "MJPU8HT08PPu"
      },
      "outputs": [],
      "source": [
        "# utility function we will use later when comparing manual gradients to PyTorch gradients\n",
        "def cmp(s, dt, t):\n",
        "  ex = torch.all(dt == t.grad).item()\n",
        "  app = torch.allclose(dt, t.grad)\n",
        "  maxdiff = (dt - t.grad).abs().max().item()\n",
        "  print(f'{s:15s} | exact: {str(ex):5s} | approximate: {str(app):5s} | maxdiff: {maxdiff} | my {dt.shape} | py {t.shape}')"
      ]
    },
    {
      "cell_type": "code",
      "execution_count": 6,
      "metadata": {
        "id": "ZlFLjQyT8PPu"
      },
      "outputs": [
        {
          "name": "stdout",
          "output_type": "stream",
          "text": [
            "4137\n"
          ]
        }
      ],
      "source": [
        "n_embd = 10 # the dimensionality of the character embedding vectors\n",
        "n_hidden = 64 # the number of neurons in the hidden layer of the MLP\n",
        "\n",
        "g = torch.Generator().manual_seed(2147483647) # for reproducibility\n",
        "\n",
        "C  = torch.randn((vocab_size, n_embd),            generator=g)\n",
        "# Layer 1\n",
        "W1 = torch.randn((n_embd * block_size, n_hidden), generator=g) * (5/3)/((n_embd * block_size)**0.5)\n",
        "b1 = torch.randn(n_hidden,                        generator=g) * 0.1 # using b1 just for fun, it's useless because of BN\n",
        "# Layer 2\n",
        "W2 = torch.randn((n_hidden, vocab_size),          generator=g) * 0.1\n",
        "b2 = torch.randn(vocab_size,                      generator=g) * 0.1\n",
        "# BatchNorm parameters\n",
        "bngain = torch.randn((1, n_hidden))*0.1 + 1.0\n",
        "bnbias = torch.randn((1, n_hidden))*0.1\n",
        "\n",
        "\n",
        "parameters = [C, W1, b1, W2, b2, bngain, bnbias]\n",
        "print(sum(p.nelement() for p in parameters)) # number of parameters in total\n",
        "for p in parameters:\n",
        "  p.requires_grad = True"
      ]
    },
    {
      "cell_type": "code",
      "execution_count": 7,
      "metadata": {
        "id": "QY-y96Y48PPv"
      },
      "outputs": [],
      "source": [
        "n_batch = 32\n",
        "n = n_batch\n",
        "\n",
        "# construct a minibatch\n",
        "ix = torch.randint(0, Xtr.shape[0], (n_batch,), generator=g)\n",
        "Xb, Yb = Xtr[ix], Ytr[ix] "
      ]
    },
    {
      "cell_type": "code",
      "execution_count": 54,
      "metadata": {},
      "outputs": [
        {
          "data": {
            "text/plain": [
              "(torch.Size([32, 3]),\n",
              " tensor([[20,  9, 20],\n",
              "         [16,  5, 14],\n",
              "         [ 5, 12,  2],\n",
              "         [ 0,  6, 18],\n",
              "         [ 2, 18, 15],\n",
              "         [ 0,  0,  0],\n",
              "         [ 0,  0,  0],\n",
              "         [ 2, 18, 15],\n",
              "         [20, 21, 18],\n",
              "         [12,  9, 20],\n",
              "         [10, 15, 21],\n",
              "         [15, 16, 15],\n",
              "         [ 0, 13,  9],\n",
              "         [12, 15, 12],\n",
              "         [ 1,  7,  7],\n",
              "         [19, 20,  5],\n",
              "         [23,  9, 18],\n",
              "         [ 0,  0,  3],\n",
              "         [ 9, 14, 20],\n",
              "         [ 5, 22, 15],\n",
              "         [ 0,  0, 14],\n",
              "         [ 0,  0, 19],\n",
              "         [ 0,  0,  4],\n",
              "         [ 8,  5,  4],\n",
              "         [ 0,  0,  0],\n",
              "         [ 9, 14,  7],\n",
              "         [ 0,  0,  0],\n",
              "         [ 6, 12,  5],\n",
              "         [24,  1, 13],\n",
              "         [ 0,  0,  0],\n",
              "         [13,  1, 14],\n",
              "         [15, 16,  5]]))"
            ]
          },
          "execution_count": 54,
          "metadata": {},
          "output_type": "execute_result"
        }
      ],
      "source": [
        "Xb.shape, Xb"
      ]
    },
    {
      "cell_type": "code",
      "execution_count": 8,
      "metadata": {
        "id": "8ofj1s6d8PPv"
      },
      "outputs": [
        {
          "data": {
            "text/plain": [
              "tensor(3.2952, grad_fn=<NegBackward0>)"
            ]
          },
          "execution_count": 8,
          "metadata": {},
          "output_type": "execute_result"
        }
      ],
      "source": [
        "# forward pass\n",
        "\n",
        "emb = C[Xb] # embed the characters into vectors\n",
        "embcat = emb.view(emb.shape[0], -1) # concatenate the vectors\n",
        "# Linear layer 1\n",
        "hprebn = embcat @ W1 + b1 # hidden layer pre-activation\n",
        "# BatchNorm layer\n",
        "bnmeani = 1/n*hprebn.sum(0, keepdim=True)\n",
        "bndiff = hprebn - bnmeani\n",
        "bndiff2 = bndiff**2\n",
        "bnvar = 1/(n-1)*(bndiff2).sum(0, keepdim=True) # note: Bessel's correction (dividing by n-1, not n)\n",
        "bnvar_inv = (bnvar + 1e-5)**-0.5\n",
        "bnraw = bndiff * bnvar_inv\n",
        "hpreact = bngain * bnraw + bnbias\n",
        "# Non-linearity\n",
        "h = torch.tanh(hpreact) # hidden layer\n",
        "# Linear layer 2\n",
        "logits = h @ W2 + b2 # output layer\n",
        "# cross entropy loss (same as F.cross_entropy(logits, Yb))\n",
        "logit_maxes = logits.max(1, keepdim=True).values\n",
        "norm_logits = logits - logit_maxes # subtract max for numerical stability\n",
        "counts = norm_logits.exp()\n",
        "counts_sum = counts.sum(1, keepdims=True)\n",
        "counts_sum_inv = counts_sum**-1 # if I use (1.0 / counts_sum) instead then I can't get backprop to be bit exact...\n",
        "probs = counts * counts_sum_inv\n",
        "logprobs = probs.log()\n",
        "loss = -logprobs[range(n), Yb].mean()\n",
        "\n",
        "# PyTorch backward pass\n",
        "for p in parameters:\n",
        "  p.grad = None\n",
        "for t in [logprobs, probs, counts, counts_sum, counts_sum_inv, # afaik there is no cleaner way\n",
        "          norm_logits, logit_maxes, logits, h, hpreact, bnraw,\n",
        "         bnvar_inv, bnvar, bndiff2, bndiff, hprebn, bnmeani,\n",
        "         embcat, emb]:\n",
        "  t.retain_grad()\n",
        "loss.backward()\n",
        "loss"
      ]
    },
    {
      "cell_type": "code",
      "execution_count": 22,
      "metadata": {},
      "outputs": [
        {
          "name": "stdout",
          "output_type": "stream",
          "text": [
            "torch.Size([32, 64])\n",
            "torch.Size([1, 64])\n",
            "torch.Size([1, 64])\n",
            "torch.Size([32, 64])\n",
            "torch.Size([32, 64])\n",
            "torch.Size([32, 64])\n",
            "torch.Size([1, 64])\n",
            "torch.Size([32, 30])\n",
            "torch.Size([32, 3, 10])\n"
          ]
        }
      ],
      "source": [
        "for t in [bnraw,\n",
        "         bnvar_inv, bnvar, bndiff2, bndiff, hprebn, bnmeani,\n",
        "         embcat, emb]:\n",
        "        print(t.shape)"
      ]
    },
    {
      "cell_type": "code",
      "execution_count": 32,
      "metadata": {
        "id": "mO-8aqxK8PPw"
      },
      "outputs": [
        {
          "name": "stdout",
          "output_type": "stream",
          "text": [
            "logprobs        | exact: True  | approximate: True  | maxdiff: 0.0 | my torch.Size([32, 27]) | py torch.Size([32, 27])\n",
            "probs           | exact: True  | approximate: True  | maxdiff: 0.0 | my torch.Size([32, 27]) | py torch.Size([32, 27])\n",
            "counts_sum_inv  | exact: True  | approximate: True  | maxdiff: 0.0 | my torch.Size([32, 1]) | py torch.Size([32, 1])\n",
            "counts_sum      | exact: True  | approximate: True  | maxdiff: 0.0 | my torch.Size([32, 1]) | py torch.Size([32, 1])\n",
            "counts          | exact: True  | approximate: True  | maxdiff: 0.0 | my torch.Size([32, 27]) | py torch.Size([32, 27])\n",
            "norm_logits     | exact: False | approximate: True  | maxdiff: 7.450580596923828e-09 | my torch.Size([32, 27]) | py torch.Size([32, 27])\n",
            "logit_maxes     | exact: True  | approximate: True  | maxdiff: 0.0 | my torch.Size([32, 1]) | py torch.Size([32, 1])\n",
            "logits          | exact: True  | approximate: True  | maxdiff: 0.0 | my torch.Size([32, 27]) | py torch.Size([32, 27])\n",
            "h               | exact: True  | approximate: True  | maxdiff: 0.0 | my torch.Size([32, 64]) | py torch.Size([32, 64])\n",
            "W2              | exact: True  | approximate: True  | maxdiff: 0.0 | my torch.Size([64, 27]) | py torch.Size([64, 27])\n",
            "b2              | exact: True  | approximate: True  | maxdiff: 0.0 | my torch.Size([27]) | py torch.Size([27])\n",
            "hpreact         | exact: False | approximate: True  | maxdiff: 9.313225746154785e-10 | my torch.Size([32, 64]) | py torch.Size([32, 64])\n",
            "bngain          | exact: False | approximate: True  | maxdiff: 1.862645149230957e-09 | my torch.Size([1, 64]) | py torch.Size([1, 64])\n",
            "bnbias          | exact: False | approximate: True  | maxdiff: 3.725290298461914e-09 | my torch.Size([1, 64]) | py torch.Size([1, 64])\n",
            "bnraw           | exact: False | approximate: True  | maxdiff: 9.313225746154785e-10 | my torch.Size([32, 64]) | py torch.Size([32, 64])\n",
            "bnvar_inv       | exact: False | approximate: True  | maxdiff: 3.725290298461914e-09 | my torch.Size([1, 64]) | py torch.Size([1, 64])\n",
            "bnvar           | exact: False | approximate: True  | maxdiff: 1.3969838619232178e-09 | my torch.Size([1, 64]) | py torch.Size([1, 64])\n",
            "bndiff2         | exact: False | approximate: True  | maxdiff: 4.3655745685100555e-11 | my torch.Size([32, 64]) | py torch.Size([32, 64])\n",
            "bndiff          | exact: False | approximate: True  | maxdiff: 9.313225746154785e-10 | my torch.Size([32, 64]) | py torch.Size([32, 64])\n",
            "bnmeani         | exact: False | approximate: True  | maxdiff: 1.862645149230957e-09 | my torch.Size([64]) | py torch.Size([1, 64])\n",
            "hprebn          | exact: False | approximate: True  | maxdiff: 9.313225746154785e-10 | my torch.Size([32, 64]) | py torch.Size([32, 64])\n",
            "embcat          | exact: False | approximate: True  | maxdiff: 1.3969838619232178e-09 | my torch.Size([32, 30]) | py torch.Size([32, 30])\n",
            "W1              | exact: False | approximate: True  | maxdiff: 5.587935447692871e-09 | my torch.Size([30, 64]) | py torch.Size([30, 64])\n",
            "b1              | exact: False | approximate: True  | maxdiff: 2.7939677238464355e-09 | my torch.Size([64]) | py torch.Size([64])\n",
            "emb             | exact: False | approximate: True  | maxdiff: 1.3969838619232178e-09 | my torch.Size([32, 3, 10]) | py torch.Size([32, 3, 10])\n",
            "C               | exact: False | approximate: True  | maxdiff: 4.6566128730773926e-09 | my torch.Size([27, 10]) | py torch.Size([27, 10])\n"
          ]
        }
      ],
      "source": [
        "# Exercise 1: backprop through the whole thing manually,\n",
        "# backpropagating through exactly all of the variables\n",
        "# as they are defined in the forward pass above, one by one\n",
        "\n",
        "dlogprobs = torch.zeros_like(logprobs)\n",
        "dlogprobs[range(n), Yb] = -1.0/n\n",
        "dprobs = dlogprobs * (1.0 / probs)\n",
        "dcounts_sum_inv = (dprobs * counts).sum(1, keepdim=True)\n",
        "dcounts_sum = (- counts_sum **-2) * dcounts_sum_inv\n",
        "dcounts = counts_sum_inv * dprobs\n",
        "dcounts += dcounts_sum * torch.ones_like(counts)\n",
        "dnorm_logits = counts * dcounts\n",
        "dlogit_maxes =  - dnorm_logits.sum(1, keepdim=True)\n",
        "dlogits = dnorm_logits\n",
        "dlogits += dlogit_maxes * F.one_hot(logits.max(1).indices, num_classes=logits.shape[1])\n",
        "dh = dlogits @ W2.T\n",
        "dW2 = h.T @ dlogits\n",
        "db2 = dlogits.sum(0)\n",
        "dhpreact = (1.0 - h**2) * dh\n",
        "dbngain = (dhpreact * bnraw).sum(0, keepdim=True)\n",
        "dbnbias = dhpreact.sum(0, keepdim=True)\n",
        "dbnraw = (dhpreact * bngain)\n",
        "dbndiff = bnvar_inv * dbnraw\n",
        "dbnvar_inv = (bndiff * dbnraw).sum(0, keepdim=True)\n",
        "dbnvar = (-0.5*(bnvar + 1e-5)**-1.5)* dbnvar_inv\n",
        "dbndiff2 = (1.0/(n-1))*torch.ones_like(bndiff2) * dbnvar\n",
        "dbndiff += (2*bndiff) * dbndiff2\n",
        "dhprebn = dbndiff.clone()\n",
        "dbnmeani = (-dbndiff).sum(0)\n",
        "dhprebn += 1.0/n * (torch.ones_like(hprebn) * dbnmeani)\n",
        "dembcat = dhprebn @ W1.T\n",
        "dW1 = embcat.T @ dhprebn\n",
        "db1 = dhprebn.sum(0)\n",
        "demb = dembcat.view(emb.shape)\n",
        "dC = torch.zeros_like(C)\n",
        "for k in range(Xb.shape[0]):\n",
        "  for j in range(Xb.shape[1]):\n",
        "    ix = Xb[k,j]\n",
        "    dC[ix] += demb[k,j]\n",
        "\n",
        "cmp('logprobs', dlogprobs, logprobs)\n",
        "cmp('probs', dprobs, probs)\n",
        "cmp('counts_sum_inv', dcounts_sum_inv, counts_sum_inv)\n",
        "cmp('counts_sum', dcounts_sum, counts_sum)\n",
        "cmp('counts', dcounts, counts)\n",
        "cmp('norm_logits', dnorm_logits, norm_logits)\n",
        "cmp('logit_maxes', dlogit_maxes, logit_maxes)\n",
        "cmp('logits', dlogits, logits)\n",
        "cmp('h', dh, h)\n",
        "cmp('W2', dW2, W2)\n",
        "cmp('b2', db2, b2)\n",
        "cmp('hpreact', dhpreact, hpreact)\n",
        "cmp('bngain', dbngain, bngain)\n",
        "cmp('bnbias', dbnbias, bnbias)\n",
        "cmp('bnraw', dbnraw, bnraw)\n",
        "cmp('bnvar_inv', dbnvar_inv, bnvar_inv)\n",
        "cmp('bnvar', dbnvar, bnvar)\n",
        "cmp('bndiff2', dbndiff2, bndiff2)\n",
        "cmp('bndiff', dbndiff, bndiff)\n",
        "cmp('bnmeani', dbnmeani, bnmeani)\n",
        "cmp('hprebn', dhprebn, hprebn)\n",
        "cmp('embcat', dembcat, embcat)\n",
        "cmp('W1', dW1, W1)\n",
        "cmp('b1', db1, b1)\n",
        "cmp('emb', demb, emb)\n",
        "cmp('C', dC, C)"
      ]
    },
    {
      "cell_type": "code",
      "execution_count": 11,
      "metadata": {
        "id": "ebLtYji_8PPw"
      },
      "outputs": [
        {
          "name": "stdout",
          "output_type": "stream",
          "text": [
            "3.295159339904785 diff: 4.76837158203125e-07\n"
          ]
        }
      ],
      "source": [
        "# backprop through cross_entropy but all in one go\n",
        "# to complete this challenge look at the mathematical expression of the loss,\n",
        "# take the derivative, simplify the expression, and just write it out\n",
        "\n",
        "# forward pass\n",
        "\n",
        "# before:\n",
        "# logit_maxes = logits.max(1, keepdim=True).values\n",
        "# norm_logits = logits - logit_maxes # subtract max for numerical stability\n",
        "# counts = norm_logits.exp()\n",
        "# counts_sum = counts.sum(1, keepdims=True)\n",
        "# counts_sum_inv = counts_sum**-1 # if I use (1.0 / counts_sum) instead then I can't get backprop to be bit exact...\n",
        "# probs = counts * counts_sum_inv\n",
        "# logprobs = probs.log()\n",
        "# loss = -logprobs[range(n), Yb].mean()\n",
        "\n",
        "# now:\n",
        "loss_fast = F.cross_entropy(logits, Yb)\n",
        "print(loss_fast.item(), 'diff:', (loss_fast - loss).item())"
      ]
    },
    {
      "cell_type": "code",
      "execution_count": 33,
      "metadata": {
        "id": "-gCXbB4C8PPx"
      },
      "outputs": [
        {
          "name": "stdout",
          "output_type": "stream",
          "text": [
            "logits          | exact: False | approximate: True  | maxdiff: 6.752088665962219e-09 | my torch.Size([32, 27]) | py torch.Size([32, 27])\n"
          ]
        }
      ],
      "source": [
        "# backward pass\n",
        "\n",
        "# for each set of logits in batch dlogits = p_\n",
        "\n",
        "dlogits = F.softmax(logits, 1)\n",
        "dlogits[range(n), Yb] -= 1\n",
        "dlogits /= n\n",
        "\n",
        "cmp('logits', dlogits, logits) "
      ]
    },
    {
      "cell_type": "code",
      "execution_count": null,
      "metadata": {},
      "outputs": [],
      "source": [
        "logits.shape, Yb.shape"
      ]
    },
    {
      "cell_type": "code",
      "execution_count": 46,
      "metadata": {},
      "outputs": [
        {
          "data": {
            "text/plain": [
              "tensor(1., grad_fn=<SumBackward0>)"
            ]
          },
          "execution_count": 46,
          "metadata": {},
          "output_type": "execute_result"
        }
      ],
      "source": [
        "F.softmax(logits, 1)[0].sum()"
      ]
    },
    {
      "cell_type": "code",
      "execution_count": 47,
      "metadata": {},
      "outputs": [
        {
          "data": {
            "text/plain": [
              "tensor([ 0.0471,  0.0414,  0.0236,  0.0210,  0.0237,  0.0699,  0.0435,  0.0154,\n",
              "         0.0146,  0.0488,  0.0959,  0.0247,  0.0738,  0.0135,  0.0571,  0.0184,\n",
              "         0.0245,  0.0132,  0.0258,  0.0125,  0.0152, -0.9612,  0.0239,  0.0823,\n",
              "         0.0635,  0.0392,  0.0290], grad_fn=<MulBackward0>)"
            ]
          },
          "execution_count": 47,
          "metadata": {},
          "output_type": "execute_result"
        }
      ],
      "source": [
        "dlogits[0] * n"
      ]
    }
  ],
  "metadata": {
    "colab": {
      "provenance": []
    },
    "kernelspec": {
      "display_name": "Python 3",
      "language": "python",
      "name": "python3"
    },
    "language_info": {
      "codemirror_mode": {
        "name": "ipython",
        "version": 3
      },
      "file_extension": ".py",
      "mimetype": "text/x-python",
      "name": "python",
      "nbconvert_exporter": "python",
      "pygments_lexer": "ipython3",
      "version": "3.10.12"
    }
  },
  "nbformat": 4,
  "nbformat_minor": 0
}
