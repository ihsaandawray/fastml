{
 "cells": [
  {
   "cell_type": "code",
   "execution_count": 3,
   "id": "f0d97ae5",
   "metadata": {},
   "outputs": [],
   "source": [
    "import torch\n",
    "import torch.nn.functional as F\n",
    "import matplotlib.pyplot as plt\n",
    "import random\n",
    "import requests"
   ]
  },
  {
   "cell_type": "code",
   "execution_count": 5,
   "id": "142c0e9b",
   "metadata": {},
   "outputs": [
    {
     "data": {
      "text/plain": [
       "['primarily',\n",
       " 'buzz',\n",
       " 'attempts',\n",
       " 'continually',\n",
       " 'eyes',\n",
       " 'theorem',\n",
       " 'skills',\n",
       " 'everyday',\n",
       " 'improving',\n",
       " 'cafe']"
      ]
     },
     "execution_count": 5,
     "metadata": {},
     "output_type": "execute_result"
    }
   ],
   "source": [
    "url =  \"https://www.mit.edu/~ecprice/wordlist.10000\"\n",
    "words = response = requests.get(url).text.splitlines()\n",
    "random.sample(words, 10)"
   ]
  },
  {
   "cell_type": "code",
   "execution_count": 15,
   "id": "bcbd39d2",
   "metadata": {},
   "outputs": [],
   "source": [
    "chars = sorted(list(set(''.join(words))))\n",
    "stoi = {s:i+1 for i,s in enumerate(chars)}\n",
    "stoi['.'] = 0\n",
    "itos = {i:s for s,i in stoi.items()}\n",
    "vocab_size = len(itos)\n"
   ]
  },
  {
   "cell_type": "code",
   "execution_count": 7,
   "id": "24dd0941",
   "metadata": {},
   "outputs": [],
   "source": [
    "block_size = 3 \n",
    "\n",
    "def build_dataset(words):  \n",
    "  X, Y = [], []\n",
    "  \n",
    "  for w in words:\n",
    "    context = [0] * block_size\n",
    "    for ch in w + '.':\n",
    "      ix = stoi[ch]\n",
    "      X.append(context)\n",
    "      Y.append(ix)\n",
    "      context = context[1:] + [ix] \n",
    "\n",
    "  X = torch.tensor(X)\n",
    "  Y = torch.tensor(Y)\n",
    "  print(X.shape, Y.shape)\n",
    "  return X, Y"
   ]
  },
  {
   "cell_type": "code",
   "execution_count": null,
   "id": "994a67bf",
   "metadata": {},
   "outputs": [],
   "source": [
    "\n",
    "# reliably train large networks.\n",
    "# problem is dynamic range of layers\n",
    "\n",
    "# for small networks scaling initialisation\n",
    "# for large networks batch norm\n",
    "\n",
    "# adjust hidden layer weights so they are not too small or too large (saturating the activation)\n",
    "\n",
    "# coupling together of batches -> conversely helps avoid overfitting by introducing uncertainty\n",
    "# other normalisations without coupling, but its hard because of the regularising effect.\n",
    "\n",
    "# bn to control statistics in neural net\n",
    "# common to place after linear layers\n"
   ]
  },
  {
   "cell_type": "code",
   "execution_count": 8,
   "id": "91da6716",
   "metadata": {},
   "outputs": [
    {
     "name": "stdout",
     "output_type": "stream",
     "text": [
      "torch.Size([60647, 3]) torch.Size([60647])\n",
      "torch.Size([7759, 3]) torch.Size([7759])\n",
      "torch.Size([7474, 3]) torch.Size([7474])\n",
      "12097\n"
     ]
    }
   ],
   "source": [
    "# Batch Normalisation\n",
    "\n",
    "# initialisation\n",
    "\n",
    "random.seed(42)\n",
    "random.shuffle(words)\n",
    "\n",
    "n1 = int(0.8*len(words))\n",
    "n2 = int(0.9*len(words))\n",
    "\n",
    "Xtr,  Ytr  = build_dataset(words[:n1])\n",
    "Xdev, Ydev = build_dataset(words[n1:n2])  \n",
    "Xte,  Yte  = build_dataset(words[n2:])   \n",
    "\n",
    "# MLP \n",
    "n_embd = 10 \n",
    "n_hidden = 200 \n",
    "\n",
    "g = torch.Generator().manual_seed(2147483647) \n",
    "\n",
    "C  = torch.randn((vocab_size, n_embd), generator=g) # produces embeddings\n",
    "W1 = torch.randn((n_embd * block_size, n_hidden), generator=g) * (5/3)/((n_embd * block_size)**0.5) # initialisation for tanh \n",
    "W2 = torch.randn((n_hidden, vocab_size), generator=g) * 0.01\n",
    "b2 = torch.randn(vocab_size, generator=g) * 0\n",
    "\n",
    "\n",
    "bngain = torch.ones((1, n_hidden))\n",
    "bnbias = torch.zeros((1, n_hidden))\n",
    "bnmean_running = torch.zeros((1, n_hidden))\n",
    "bnstd_running = torch.ones((1, n_hidden))\n",
    "\n",
    "parameters = [C, W1, W2, b2, bngain, bnbias]\n",
    "\n",
    "print(sum(p.nelement() for p in parameters)) \n",
    "for p in parameters:\n",
    "  p.requires_grad = True\n",
    "  "
   ]
  },
  {
   "cell_type": "code",
   "execution_count": 21,
   "id": "4dd54dbf",
   "metadata": {},
   "outputs": [
    {
     "data": {
      "text/plain": [
       "torch.Size([27, 10])"
      ]
     },
     "execution_count": 21,
     "metadata": {},
     "output_type": "execute_result"
    }
   ],
   "source": [
    "C.shape"
   ]
  },
  {
   "cell_type": "code",
   "execution_count": 9,
   "id": "42e6756d",
   "metadata": {},
   "outputs": [
    {
     "name": "stdout",
     "output_type": "stream",
     "text": [
      "      0/ 200000: 3.2885\n",
      "  10000/ 200000: 1.8856\n",
      "  20000/ 200000: 2.2291\n",
      "  30000/ 200000: 1.9903\n",
      "  40000/ 200000: 2.2404\n",
      "  50000/ 200000: 2.0527\n",
      "  60000/ 200000: 1.7907\n",
      "  70000/ 200000: 2.4621\n",
      "  80000/ 200000: 1.9275\n",
      "  90000/ 200000: 1.8402\n",
      " 100000/ 200000: 1.8559\n",
      " 110000/ 200000: 2.1469\n",
      " 120000/ 200000: 2.2198\n",
      " 130000/ 200000: 1.8929\n",
      " 140000/ 200000: 2.1060\n",
      " 150000/ 200000: 2.0103\n",
      " 160000/ 200000: 1.9261\n",
      " 170000/ 200000: 2.0518\n",
      " 180000/ 200000: 2.3385\n",
      " 190000/ 200000: 1.7945\n"
     ]
    },
    {
     "data": {
      "text/plain": [
       "[<matplotlib.lines.Line2D at 0x7f4df9140ca0>]"
      ]
     },
     "execution_count": 9,
     "metadata": {},
     "output_type": "execute_result"
    },
    {
     "data": {
      "image/png": "[encoded data removed]",
      "text/plain": [
       "<Figure size 640x480 with 1 Axes>"
      ]
     },
     "metadata": {},
     "output_type": "display_data"
    }
   ],
   "source": [
    "max_steps = 200000\n",
    "batch_size = 32\n",
    "lossi = []\n",
    "\n",
    "for i in range(max_steps):\n",
    "  # minibatch construct\n",
    "  ix = torch.randint(0, Xtr.shape[0], (batch_size,), generator=g)\n",
    "  Xb, Yb = Xtr[ix], Ytr[ix] # batch X,Y\n",
    "  \n",
    "  # forward pass\n",
    "  emb = C[Xb] # embed the characters into vectors, each trigam -> vector dim=30\n",
    "  embcat = emb.view(emb.shape[0], -1) # concatenate the vectors\n",
    "  hpreact = embcat @ W1 # hidden layer pre-activation\n",
    "  \n",
    "  # bn layer\n",
    "  # normalising hidden states roughly gaussian with std dev 1 upto scale and shift\n",
    "  bnmeani = hpreact.mean(0, keepdim=True)\n",
    "  bnstdi = hpreact.std(0, keepdim=True)\n",
    "  hpreact = bngain * (hpreact - bnmeani) / bnstdi + bnbias\n",
    "  # low momentum running mean estimation\n",
    "  with torch.no_grad():\n",
    "    bnmean_running = 0.999 * bnmean_running + 0.001 * bnmeani\n",
    "    bnstd_running = 0.999 * bnstd_running + 0.001 * bnstdi\n",
    "\n",
    "  # non-linearity\n",
    "  h = torch.tanh(hpreact) # hidden layer\n",
    "  logits = h @ W2 + b2 # output layer\n",
    "  loss = F.cross_entropy(logits, Yb) # loss function\n",
    "  \n",
    "  # backward pass\n",
    "  for p in parameters:\n",
    "    p.grad = None\n",
    "  loss.backward()\n",
    "  \n",
    "  # update\n",
    "  lr = 0.1 if i < 100000 else 0.01 # step learning rate decay\n",
    "  for p in parameters:\n",
    "    p.data += -lr * p.grad\n",
    "\n",
    "  if i % 10000 == 0: # print every once in a while\n",
    "    print(f'{i:7d}/{max_steps:7d}: {loss.item():.4f}')\n",
    "  lossi.append(loss.log10().item())\n",
    "  \n",
    "\n",
    "plt.plot(lossi)"
   ]
  },
  {
   "cell_type": "code",
   "execution_count": 20,
   "id": "acf2df76",
   "metadata": {},
   "outputs": [
    {
     "data": {
      "text/plain": [
       "(torch.Size([1, 3, 10]),\n",
       " torch.Size([32, 3]),\n",
       " tensor([[-0.7069,  0.3187,  0.3088, -1.7511, -0.4880,  2.0496, -1.2675, -0.7265,\n",
       "          -2.2964,  0.0408,  0.3165, -1.6721,  1.4095, -0.7799,  0.3963,  1.0871,\n",
       "           0.4351, -0.6269, -0.3034, -1.0398,  0.0951,  2.1149, -0.7457,  0.2580,\n",
       "          -1.9923,  1.2250,  0.5484,  1.5589,  0.3276,  1.1112]],\n",
       "        grad_fn=<ViewBackward0>))"
      ]
     },
     "execution_count": 20,
     "metadata": {},
     "output_type": "execute_result"
    }
   ],
   "source": [
    "emb.shape, Xb.shape, emb.view(emb.shape[0], -1)"
   ]
  },
  {
   "cell_type": "code",
   "execution_count": 10,
   "id": "cea2ab5b",
   "metadata": {},
   "outputs": [
    {
     "name": "stdout",
     "output_type": "stream",
     "text": [
      "train 1.9287593364715576\n",
      "val 2.096768617630005\n"
     ]
    }
   ],
   "source": [
    "# calibrate the batch norm at the end of training\n",
    "# neural net takes in batches, how to feed in a single example\n",
    "# measure the mean/std over the entire training set\n",
    "\n",
    "with torch.no_grad():\n",
    "  emb = C[Xtr]\n",
    "  embcat = emb.view(emb.shape[0], -1)\n",
    "  hpreact = embcat @ W1 # + b1\n",
    "  bnmean = hpreact.mean(0, keepdim=True)\n",
    "  bnstd = hpreact.std(0, keepdim=True)\n",
    "\n",
    "@torch.no_grad() \n",
    "def split_loss(split):\n",
    "  x,y = {\n",
    "    'train': (Xtr, Ytr),\n",
    "    'val': (Xdev, Ydev),\n",
    "    'test': (Xte, Yte),\n",
    "  }[split]\n",
    "  emb = C[x] # (N, block_size, n_embd)\n",
    "  embcat = emb.view(emb.shape[0], -1) # concat into (N, block_size * n_embd)\n",
    "  hpreact = embcat @ W1 # + b1\n",
    "  hpreact = bngain * (hpreact - bnmean_running) / bnstd_running + bnbias\n",
    "  h = torch.tanh(hpreact) # (N, n_hidden)\n",
    "  logits = h @ W2 + b2 # (N, vocab_size)\n",
    "  loss = F.cross_entropy(logits, y)\n",
    "  print(split, loss.item())\n",
    "\n",
    "split_loss('train')\n",
    "split_loss('val')"
   ]
  },
  {
   "cell_type": "code",
   "execution_count": 14,
   "id": "db2e2f20",
   "metadata": {},
   "outputs": [
    {
     "name": "stdout",
     "output_type": "stream",
     "text": [
      "mring\n",
      "myangerent\n",
      "dury\n",
      "porthurs\n",
      "bad\n",
      "log\n",
      "adered\n",
      "eling\n",
      "minoen\n",
      "edecias\n",
      "passendles\n",
      "hotel\n",
      "noshugers\n",
      "highest\n",
      "tuirecepting\n",
      "puction\n",
      "pred\n",
      "regislement\n",
      "rease\n",
      "stourning\n"
     ]
    }
   ],
   "source": [
    "# sample from the model\n",
    "g = torch.Generator().manual_seed(2147483647 + 10)\n",
    "\n",
    "for _ in range(20):\n",
    "    \n",
    "    out = []\n",
    "    context = [0] * block_size # initialize with all ...\n",
    "    while True:\n",
    "      # forward pass the neural net\n",
    "      emb = C[torch.tensor([context])] # (1,block_size,n_embd)\n",
    "      embcat = emb.view(emb.shape[0], -1) # concat into (N, block_size * n_embd)\n",
    "      hpreact = embcat @ W1 # + b1\n",
    "      hpreact = bngain * (hpreact - bnmean_running) / bnstd_running + bnbias\n",
    "      h = torch.tanh(hpreact) # (N, n_hidden)\n",
    "      logits = h @ W2 + b2 # (N, vocab_size)\n",
    "      probs = F.softmax(logits, dim=1)\n",
    "      # sample from the distribution\n",
    "      ix = torch.multinomial(probs, num_samples=1, generator=g).item()\n",
    "      context = context[1:] + [ix]\n",
    "      if ix == 0:\n",
    "        break\n",
    "      out.append(ix)\n",
    "    \n",
    "    print(''.join(itos[i] for i in out)) # decode and print the generated word"
   ]
  },
  {
   "cell_type": "code",
   "execution_count": null,
   "id": "1d8a1800",
   "metadata": {},
   "outputs": [],
   "source": []
  }
 ],
 "metadata": {
  "kernelspec": {
   "display_name": "Python 3 (ipykernel)",
   "language": "python",
   "name": "python3"
  },
  "language_info": {
   "codemirror_mode": {
    "name": "ipython",
    "version": 3
   },
   "file_extension": ".py",
   "mimetype": "text/x-python",
   "name": "python",
   "nbconvert_exporter": "python",
   "pygments_lexer": "ipython3",
   "version": "3.10.12"
  }
 },
 "nbformat": 4,
 "nbformat_minor": 5
}
